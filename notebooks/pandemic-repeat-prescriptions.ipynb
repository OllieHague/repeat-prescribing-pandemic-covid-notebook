{
 "cells": [
  {
   "cell_type": "markdown",
   "metadata": {},
   "source": [
    "In this notebook we are looking to see what proprotion of prescriptions are for one week, one month, two months and three months to inform our rapid evidence review on prescription duration during a pandemic.\n",
    "\n",
    "In order to do this we use the same methodology as the [OpenPrescribing Seven Day Prescribing aka dosette boxes measure](https://openprescribing.net/measure/seven_day_prescribing/national/england/) i.e. we select a basket of commonly prescribed medicines which are almost exclusively used once daily so we can ascertain the duration based on quantity."
   ]
  },
  {
   "cell_type": "code",
   "execution_count": 1,
   "metadata": {},
   "outputs": [],
   "source": [
    "##importing libraries that are need to support analysis\n",
    "import pandas as pd\n",
    "import numpy as np\n",
    "from ebmdatalab import bq, maps, charts\n",
    "import matplotlib.pyplot as plt\n",
    "import os"
   ]
  },
  {
   "cell_type": "raw",
   "metadata": {},
   "source": [
    "## ensuring the format is consistent for floats,pounds and pence\n",
    "pd.set_option('display.float_format', lambda x: '%.2f' % x)"
   ]
  },
  {
   "cell_type": "code",
   "execution_count": 2,
   "metadata": {},
   "outputs": [
    {
     "data": {
      "text/html": [
       "<div>\n",
       "<style scoped>\n",
       "    .dataframe tbody tr th:only-of-type {\n",
       "        vertical-align: middle;\n",
       "    }\n",
       "\n",
       "    .dataframe tbody tr th {\n",
       "        vertical-align: top;\n",
       "    }\n",
       "\n",
       "    .dataframe thead th {\n",
       "        text-align: right;\n",
       "    }\n",
       "</style>\n",
       "<table border=\"1\" class=\"dataframe\">\n",
       "  <thead>\n",
       "    <tr style=\"text-align: right;\">\n",
       "      <th></th>\n",
       "      <th>quantity_per_item</th>\n",
       "      <th>items</th>\n",
       "    </tr>\n",
       "  </thead>\n",
       "  <tbody>\n",
       "    <tr>\n",
       "      <th>0</th>\n",
       "      <td>137.0</td>\n",
       "      <td>1</td>\n",
       "    </tr>\n",
       "    <tr>\n",
       "      <th>1</th>\n",
       "      <td>230.0</td>\n",
       "      <td>1</td>\n",
       "    </tr>\n",
       "    <tr>\n",
       "      <th>2</th>\n",
       "      <td>220.0</td>\n",
       "      <td>25</td>\n",
       "    </tr>\n",
       "    <tr>\n",
       "      <th>3</th>\n",
       "      <td>350.0</td>\n",
       "      <td>69</td>\n",
       "    </tr>\n",
       "    <tr>\n",
       "      <th>4</th>\n",
       "      <td>163.0</td>\n",
       "      <td>12</td>\n",
       "    </tr>\n",
       "    <tr>\n",
       "      <th>5</th>\n",
       "      <td>92.0</td>\n",
       "      <td>330</td>\n",
       "    </tr>\n",
       "    <tr>\n",
       "      <th>6</th>\n",
       "      <td>103.0</td>\n",
       "      <td>7</td>\n",
       "    </tr>\n",
       "    <tr>\n",
       "      <th>7</th>\n",
       "      <td>248.0</td>\n",
       "      <td>4</td>\n",
       "    </tr>\n",
       "    <tr>\n",
       "      <th>8</th>\n",
       "      <td>42.0</td>\n",
       "      <td>98628</td>\n",
       "    </tr>\n",
       "    <tr>\n",
       "      <th>9</th>\n",
       "      <td>326.0</td>\n",
       "      <td>11</td>\n",
       "    </tr>\n",
       "  </tbody>\n",
       "</table>\n",
       "</div>"
      ],
      "text/plain": [
       "   quantity_per_item  items\n",
       "0              137.0      1\n",
       "1              230.0      1\n",
       "2              220.0     25\n",
       "3              350.0     69\n",
       "4              163.0     12\n",
       "5               92.0    330\n",
       "6              103.0      7\n",
       "7              248.0      4\n",
       "8               42.0  98628\n",
       "9              326.0     11"
      ]
     },
     "execution_count": 2,
     "metadata": {},
     "output_type": "execute_result"
    }
   ],
   "source": [
    "## here we extract data for modelling\n",
    "sql = '''\n",
    "SELECT\n",
    "  quantity_per_item,\n",
    "  sum(items) as items\n",
    "FROM\n",
    " ebmdatalab.hscic.raw_prescribing_normalised AS presc\n",
    "INNER JOIN\n",
    "  ebmdatalab.hscic.practices AS prac\n",
    "ON\n",
    "  presc.practice = prac.code\n",
    "WHERE\n",
    "(bnf_code LIKE \"0205051R0%\" OR  ##ramipril\n",
    "bnf_code LIKE \"0212000B0%\" OR ##atrovastatin\n",
    "bnf_code LIKE \"0212000Y0%\" OR ##simvastatin\n",
    "bnf_code LIKE \"0602010V0%\" OR ##levothyroxine\n",
    "bnf_code LIKE \"0206020A0%\") ##amlodipine\n",
    "AND\n",
    "(bnf_name LIKE '%tablet%' OR\n",
    "bnf_name LIKE '% tab %' OR\n",
    "bnf_name LIKE '% tab' OR\n",
    "bnf_name LIKE '% tabs %' OR\n",
    "bnf_name LIKE '% tabs' OR\n",
    "bnf_name LIKE '%capsule%' OR\n",
    "bnf_name LIKE '% caps %' OR\n",
    "bnf_name LIKE '% caps' OR\n",
    "bnf_name LIKE '%caplet%' OR\n",
    "bnf_name LIKE '%Chewtab%') ##this restricts to tablets or capsules\n",
    "AND\n",
    "setting = 4\n",
    "AND (month BETWEEN '2019-01-01'\n",
    "    AND '2019-12-01') ##this restricts to one year 2019 \n",
    "GROUP BY\n",
    "  quantity_per_item\n",
    "    '''\n",
    "\n",
    "df_pandemic_repeatrx = bq.cached_read(sql, csv_path=os.path.join('..','data','pandemic_repeatrx.csv'))\n",
    "df_pandemic_repeatrx.head(10)"
   ]
  },
  {
   "cell_type": "code",
   "execution_count": 3,
   "metadata": {},
   "outputs": [],
   "source": [
    "## here we get the total quantity on each prescription as a column\n",
    "df_pandemic_repeatrx[\"total_quantity\"] = df_pandemic_repeatrx[\"quantity_per_item\"]*df_pandemic_repeatrx[\"items\"] \n"
   ]
  },
  {
   "cell_type": "code",
   "execution_count": 4,
   "metadata": {},
   "outputs": [],
   "source": [
    "###here we make a list of common durations e.g. week, month etc\n",
    "lst = [7,28,56,84]"
   ]
  },
  {
   "cell_type": "code",
   "execution_count": 5,
   "metadata": {},
   "outputs": [
    {
     "name": "stdout",
     "output_type": "stream",
     "text": [
      "     quantity_per_item     items  total_quantity\n",
      "88                56.0  39854386    2.231846e+09\n",
      "111               28.0  88728559    2.484400e+09\n",
      "130                7.0  23443477    1.641043e+08\n",
      "216               84.0   4838445    4.064294e+08\n"
     ]
    }
   ],
   "source": [
    "##lets have a look at the common durations\n",
    "df_common = df_pandemic_repeatrx.loc[(df_pandemic_repeatrx[\"quantity_per_item\"].isin(lst))]\n",
    "\n",
    "print(df_common)"
   ]
  },
  {
   "cell_type": "code",
   "execution_count": 6,
   "metadata": {},
   "outputs": [
    {
     "name": "stderr",
     "output_type": "stream",
     "text": [
      "<ipython-input-6-8805583853b2>:3: SettingWithCopyWarning: \n",
      "A value is trying to be set on a copy of a slice from a DataFrame.\n",
      "Try using .loc[row_indexer,col_indexer] = value instead\n",
      "\n",
      "See the caveats in the documentation: https://pandas.pydata.org/pandas-docs/stable/user_guide/indexing.html#returning-a-view-versus-a-copy\n",
      "  df_common[\"proportion_of_qty\"] = df_common[\"total_quantity\"]/total*100\n"
     ]
    },
    {
     "data": {
      "text/html": [
       "<div>\n",
       "<style scoped>\n",
       "    .dataframe tbody tr th:only-of-type {\n",
       "        vertical-align: middle;\n",
       "    }\n",
       "\n",
       "    .dataframe tbody tr th {\n",
       "        vertical-align: top;\n",
       "    }\n",
       "\n",
       "    .dataframe thead th {\n",
       "        text-align: right;\n",
       "    }\n",
       "</style>\n",
       "<table border=\"1\" class=\"dataframe\">\n",
       "  <thead>\n",
       "    <tr style=\"text-align: right;\">\n",
       "      <th></th>\n",
       "      <th>quantity_per_item</th>\n",
       "      <th>items</th>\n",
       "      <th>total_quantity</th>\n",
       "      <th>proportion_of_qty</th>\n",
       "    </tr>\n",
       "  </thead>\n",
       "  <tbody>\n",
       "    <tr>\n",
       "      <th>88</th>\n",
       "      <td>56.0</td>\n",
       "      <td>39854386</td>\n",
       "      <td>2.231846e+09</td>\n",
       "      <td>40.849652</td>\n",
       "    </tr>\n",
       "    <tr>\n",
       "      <th>111</th>\n",
       "      <td>28.0</td>\n",
       "      <td>88728559</td>\n",
       "      <td>2.484400e+09</td>\n",
       "      <td>45.472169</td>\n",
       "    </tr>\n",
       "    <tr>\n",
       "      <th>130</th>\n",
       "      <td>7.0</td>\n",
       "      <td>23443477</td>\n",
       "      <td>1.641043e+08</td>\n",
       "      <td>3.003615</td>\n",
       "    </tr>\n",
       "    <tr>\n",
       "      <th>216</th>\n",
       "      <td>84.0</td>\n",
       "      <td>4838445</td>\n",
       "      <td>4.064294e+08</td>\n",
       "      <td>7.438910</td>\n",
       "    </tr>\n",
       "  </tbody>\n",
       "</table>\n",
       "</div>"
      ],
      "text/plain": [
       "     quantity_per_item     items  total_quantity  proportion_of_qty\n",
       "88                56.0  39854386    2.231846e+09          40.849652\n",
       "111               28.0  88728559    2.484400e+09          45.472169\n",
       "130                7.0  23443477    1.641043e+08           3.003615\n",
       "216               84.0   4838445    4.064294e+08           7.438910"
      ]
     },
     "execution_count": 6,
     "metadata": {},
     "output_type": "execute_result"
    }
   ],
   "source": [
    "## lets see what proprotions based on the volume of tabs/caps\n",
    "total = df_pandemic_repeatrx[\"total_quantity\"].sum()\n",
    "df_common[\"proportion_of_qty\"] = df_common[\"total_quantity\"]/total*100\n",
    "df_common"
   ]
  },
  {
   "cell_type": "markdown",
   "metadata": {},
   "source": [
    " 45% of the total volume appears on one month prescriptions."
   ]
  }
 ],
 "metadata": {
  "jupytext": {
   "cell_metadata_filter": "all",
   "notebook_metadata_filter": "all,-language_info",
   "text_representation": {
    "extension": ".py",
    "format_name": "light",
    "format_version": "1.5",
    "jupytext_version": "1.3.3"
   }
  },
  "kernelspec": {
   "display_name": "Python 3",
   "language": "python",
   "name": "python3"
  },
  "language_info": {
   "codemirror_mode": {
    "name": "ipython",
    "version": 3
   },
   "file_extension": ".py",
   "mimetype": "text/x-python",
   "name": "python",
   "nbconvert_exporter": "python",
   "pygments_lexer": "ipython3",
   "version": "3.8.1"
  }
 },
 "nbformat": 4,
 "nbformat_minor": 4
}
